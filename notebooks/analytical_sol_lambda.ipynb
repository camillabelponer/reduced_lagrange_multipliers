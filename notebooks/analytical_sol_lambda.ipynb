{
 "cells": [
  {
   "cell_type": "code",
   "execution_count": 1,
   "id": "cf135ed8",
   "metadata": {},
   "outputs": [
    {
     "name": "stdout",
     "output_type": "stream",
     "text": [
      "Populating the interactive namespace from numpy and matplotlib\n"
     ]
    }
   ],
   "source": [
    "%pylab inline"
   ]
  },
  {
   "cell_type": "code",
   "execution_count": 2,
   "id": "c347bd81",
   "metadata": {},
   "outputs": [],
   "source": [
    "from sympy import *\n",
    "import numpy as np"
   ]
  },
  {
   "cell_type": "code",
   "execution_count": 3,
   "id": "b2777a12",
   "metadata": {},
   "outputs": [],
   "source": [
    "r = var('r')\n",
    "c1 = var('c1')\n",
    "c2 = var('c2')\n",
    "a = var('a')\n",
    "lam = var('lambda')\n",
    "mu = var('mu')\n",
    "ubar = var('u')\n",
    "\n",
    "def function_ur(r):\n",
    "    return c2 * r + c1 /r\n",
    "\n",
    "def function_u0(r):\n",
    "    return function_ur(a)* r/a"
   ]
  },
  {
   "cell_type": "code",
   "execution_count": 7,
   "id": "aded6e43",
   "metadata": {},
   "outputs": [
    {
     "name": "stdout",
     "output_type": "stream",
     "text": [
      "ur =  c1/r + c2*r\n",
      "u0 =  r*(a*c2 + c1/a)/a\n",
      "d/dr (u0) =  (a*c2 + c1/a)/a\n",
      "d/dr (ur) =  -c1/r**2 + c2\n"
     ]
    }
   ],
   "source": [
    "#functions\n",
    "ur = function_ur(r)\n",
    "print(\"ur = \", ur)\n",
    "u0 = function_u0(r)\n",
    "print(\"u0 = \", u0)\n",
    "\n",
    "#normal derivative\n",
    "dr_u0 = u0.diff(r)\n",
    "print(\"d/dr (u0) = \", dr_u0)\n",
    "dr_ur = ur.diff(r)\n",
    "print(\"d/dr (ur) = \", dr_ur)"
   ]
  },
  {
   "cell_type": "code",
   "execution_count": 8,
   "id": "cdd030a4",
   "metadata": {},
   "outputs": [],
   "source": [
    "def div(u):\n",
    "    # 1/r d(r *u(r))/dr = u(r)/r + u'(r)\n",
    "    return u/r  + u.diff(r)\n",
    "\n",
    "def eps(u):\n",
    "    ep = np.zeros(shape=(2,2))\n",
    "    ep[0,0] = u.diff(r) \n",
    "    return ep\n",
    "\n",
    "def sigma(u):\n",
    "    sig = mu * eps(u)\n",
    "    sig[0,0] = sig[0,0] + lam * div(u)\n",
    "    sig[1,1] = sig[1,1] + lam * div(u)\n",
    "    \n",
    "    return sig"
   ]
  },
  {
   "cell_type": "code",
   "execution_count": 30,
   "id": "320ca6ef",
   "metadata": {},
   "outputs": [
    {
     "name": "stdout",
     "output_type": "stream",
     "text": [
      "div(ur) =  -c1/r**2 + c2 + (c1/r + c2*r)/r\n",
      "sigma(ur)|_0 =  lambda*(-c1/r**2 + c2 + (c1/r + c2*r)/r) + 2*mu*(-c1/r**2 + c2)\n",
      "div(u0) =  2*(a*c2 + c1/a)/a\n",
      "sigma(u0)|_0 =  2*lambda*(a*c2 + c1/a)/a + 2*mu*(a*c2 + c1/a)/a\n"
     ]
    }
   ],
   "source": [
    "divur = (ur/r + dr_ur)\n",
    "print(\"div(ur) = \", divur)\n",
    "sigma_ur_00 = 2 * mu * dr_ur + lam * divur\n",
    "sigma_ur_11 = lam * divur\n",
    "sigma_ur_10 = 0\n",
    "sigma_ur_01 = 0\n",
    "print(\"sigma(ur)|_0 = \", sigma_ur_00)\n",
    "\n",
    "divu0 = (u0/r + dr_u0)\n",
    "print(\"div(u0) = \", divu0)\n",
    "sigma_u0_00 = 2 * mu * dr_u0 + lam * divu0\n",
    "sigma_u0_11 = lam * divu0\n",
    "sigma_u0_10 = 0\n",
    "sigma_u0_01 = 0\n",
    "print(\"sigma(u0)|_0 = \", sigma_u0_00)"
   ]
  },
  {
   "cell_type": "code",
   "execution_count": 25,
   "id": "d9e3dcda",
   "metadata": {},
   "outputs": [
    {
     "data": {
      "text/latex": [
       "$\\displaystyle 2 \\left|{\\frac{c_{1} \\left(\\lambda + 2 \\mu\\right)}{a^{2}}}\\right|$"
      ],
      "text/plain": [
       "2*Abs(c1*(lambda + 2*mu)/a**2)"
      ]
     },
     "execution_count": 25,
     "metadata": {},
     "output_type": "execute_result"
    }
   ],
   "source": [
    "#we are only interested in the normal jump \n",
    "s1_r = sigma_ur_00.subs(r,a)\n",
    "#print(s1)\n",
    "s2_r = sigma_u0_00.subs(r,a)\n",
    "#print(s2)\n",
    "\n",
    "jump_r = simplify(abs(s1_r - s2_r))\n",
    "jump_r"
   ]
  },
  {
   "cell_type": "code",
   "execution_count": 26,
   "id": "1d3de325",
   "metadata": {},
   "outputs": [
    {
     "data": {
      "text/latex": [
       "$\\displaystyle 6 \\left|{\\frac{u}{a \\left(a^{2} - 1\\right)}}\\right|$"
      ],
      "text/plain": [
       "6*Abs(u/(a*(a**2 - 1)))"
      ]
     },
     "execution_count": 26,
     "metadata": {},
     "output_type": "execute_result"
    }
   ],
   "source": [
    "result_r = jump_r.subs({mu:1, lam:1, c1:a*ubar/(1-a**2)})\n",
    "(result_r)"
   ]
  },
  {
   "cell_type": "code",
   "execution_count": 27,
   "id": "ec08679c",
   "metadata": {},
   "outputs": [
    {
     "data": {
      "text/latex": [
       "$\\displaystyle 6 \\left|{\\frac{u}{a \\left(a^{2} - 1\\right)}}\\right|$"
      ],
      "text/plain": [
       "6*Abs(u/(a*(a**2 - 1)))"
      ]
     },
     "execution_count": 27,
     "metadata": {},
     "output_type": "execute_result"
    }
   ],
   "source": [
    "result_r.subs({ubar:0.1, a:0.2})\n",
    "(result_r)\n"
   ]
  },
  {
   "cell_type": "code",
   "execution_count": 29,
   "id": "112070f1",
   "metadata": {},
   "outputs": [
    {
     "data": {
      "text/latex": [
       "$\\displaystyle 12 \\pi a \\left|{\\frac{u}{a \\left(a^{2} - 1\\right)}}\\right|$"
      ],
      "text/plain": [
       "12*pi*a*Abs(u/(a*(a**2 - 1)))"
      ]
     },
     "execution_count": 29,
     "metadata": {},
     "output_type": "execute_result"
    }
   ],
   "source": [
    "#integral over \\Gamma\n",
    "result_r * 2 * pi * a"
   ]
  },
  {
   "cell_type": "code",
   "execution_count": 31,
   "id": "7ed21dc5",
   "metadata": {},
   "outputs": [
    {
     "data": {
      "text/latex": [
       "$\\displaystyle 0$"
      ],
      "text/plain": [
       "0"
      ]
     },
     "execution_count": 31,
     "metadata": {},
     "output_type": "execute_result"
    }
   ],
   "source": [
    "#what we add inside the hole\n",
    "dr_s_0 = sigma_u0_00.diff(r)\n",
    "dr_s_1 = 0\n",
    "\n",
    "dr_s_0"
   ]
  }
 ],
 "metadata": {
  "kernelspec": {
   "display_name": "Python 3 (ipykernel)",
   "language": "python",
   "name": "python3"
  },
  "language_info": {
   "codemirror_mode": {
    "name": "ipython",
    "version": 3
   },
   "file_extension": ".py",
   "mimetype": "text/x-python",
   "name": "python",
   "nbconvert_exporter": "python",
   "pygments_lexer": "ipython3",
   "version": "3.10.12"
  }
 },
 "nbformat": 4,
 "nbformat_minor": 5
}
